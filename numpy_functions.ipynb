{
  "nbformat": 4,
  "nbformat_minor": 0,
  "metadata": {
    "colab": {
      "name": "numpy functions.ipynb",
      "provenance": [],
      "collapsed_sections": [],
      "authorship_tag": "ABX9TyO81Z2nr8AggsCiJRzWjEQm",
      "include_colab_link": true
    },
    "kernelspec": {
      "name": "python3",
      "display_name": "Python 3"
    }
  },
  "cells": [
    {
      "cell_type": "markdown",
      "metadata": {
        "id": "view-in-github",
        "colab_type": "text"
      },
      "source": [
        "<a href=\"https://colab.research.google.com/github/Devil-99/numpy/blob/main/numpy_functions.ipynb\" target=\"_parent\"><img src=\"https://colab.research.google.com/assets/colab-badge.svg\" alt=\"Open In Colab\"/></a>"
      ]
    },
    {
      "cell_type": "code",
      "metadata": {
        "id": "B96pNi2Yx7gR",
        "colab": {
          "base_uri": "https://localhost:8080/"
        },
        "outputId": "ff615906-c80e-4e93-ad06-b4a1f1891b90"
      },
      "source": [
        "import numpy as np\n",
        "\n",
        "#creating array\n",
        "a=np.array([(1,2,3),(4,5,6)])\n",
        "print(a)"
      ],
      "execution_count": 2,
      "outputs": [
        {
          "output_type": "stream",
          "text": [
            "[[1 2 3]\n",
            " [4 5 6]]\n"
          ],
          "name": "stdout"
        }
      ]
    },
    {
      "cell_type": "code",
      "metadata": {
        "colab": {
          "base_uri": "https://localhost:8080/"
        },
        "id": "93l0LGOoySEK",
        "outputId": "66837506-7ab6-438a-c4d4-8ec7b1abfda4"
      },
      "source": [
        "#dimension of the array\n",
        "print(a.ndim)\n",
        "\n",
        "#byte size of each elemnet\n",
        "print(a.itemsize)\n",
        "\n",
        "#datatype of element\n",
        "print(a.dtype)"
      ],
      "execution_count": null,
      "outputs": [
        {
          "output_type": "stream",
          "text": [
            "2\n",
            "8\n",
            "int64\n"
          ],
          "name": "stdout"
        }
      ]
    },
    {
      "cell_type": "code",
      "metadata": {
        "colab": {
          "base_uri": "https://localhost:8080/"
        },
        "id": "u1_kKCSdzMG8",
        "outputId": "e86da33d-724e-4b59-ab0c-75d5776bb5d5"
      },
      "source": [
        "b=np.array([(1,2,3,4,5,6),(7,8,9,10,11,12),(13,14,15,16,17,18)])\n",
        "print(b)\n",
        "\n",
        "#size = no of element\n",
        "print(b.size)\n",
        "\n",
        "#shape of array (row,column)\n",
        "print(b.shape)"
      ],
      "execution_count": 3,
      "outputs": [
        {
          "output_type": "stream",
          "text": [
            "[[ 1  2  3  4  5  6]\n",
            " [ 7  8  9 10 11 12]\n",
            " [13 14 15 16 17 18]]\n",
            "18\n",
            "(3, 6)\n"
          ],
          "name": "stdout"
        }
      ]
    },
    {
      "cell_type": "code",
      "metadata": {
        "colab": {
          "base_uri": "https://localhost:8080/"
        },
        "id": "KLRo0xJv0KDi",
        "outputId": "de9f64dd-3739-45e8-949e-0600eae5ef33"
      },
      "source": [
        "#Reshaping of array ie. transpose\n",
        "c=b.reshape(2,9)\n",
        "\n",
        "print(c)"
      ],
      "execution_count": null,
      "outputs": [
        {
          "output_type": "stream",
          "text": [
            "[[ 1  2  3  4  5  6  7  8  9]\n",
            " [10 11 12 13 14 15 16 17 18]]\n"
          ],
          "name": "stdout"
        }
      ]
    },
    {
      "cell_type": "code",
      "metadata": {
        "colab": {
          "base_uri": "https://localhost:8080/"
        },
        "id": "rW2ntBkt0wKW",
        "outputId": "e5b17e27-1402-4ef5-b155-386b6333bee6"
      },
      "source": [
        "#slicing an array\n",
        "\n",
        "#if we want to print 5\n",
        "print(b[0,4])\n",
        "\n",
        "#if we want to print the 4th element in both row\n",
        "print(b[0:,4])\n",
        "# 0: means all rows from 0 including\n",
        "\n",
        "#if we want to print 4th element in 1st 2 row\n",
        "print(b[0:2,4])\n",
        "# 0:n means rows form 0 to n-1\n",
        "\n",
        "#if we want to print all the rows of column 2 to 4-1\n",
        "print(b[:,2:4])"
      ],
      "execution_count": 8,
      "outputs": [
        {
          "output_type": "stream",
          "text": [
            "5\n",
            "[ 5 11 17]\n",
            "[ 5 11]\n",
            "[[ 1  2  3  4]\n",
            " [ 7  8  9 10]\n",
            " [13 14 15 16]]\n"
          ],
          "name": "stdout"
        }
      ]
    },
    {
      "cell_type": "code",
      "metadata": {
        "colab": {
          "base_uri": "https://localhost:8080/"
        },
        "id": "XtIggyZt4AVb",
        "outputId": "3507827e-2f2e-4cc7-fe26-2ff5c55f5df0"
      },
      "source": [
        "# linespace\n",
        "\n",
        "x=np.linspace(1,5,10)\n",
        "# 10 element from 1 to 5 with equal space in between\n",
        "print(x)"
      ],
      "execution_count": 3,
      "outputs": [
        {
          "output_type": "stream",
          "text": [
            "[1.         1.44444444 1.88888889 2.33333333 2.77777778 3.22222222\n",
            " 3.66666667 4.11111111 4.55555556 5.        ]\n"
          ],
          "name": "stdout"
        }
      ]
    },
    {
      "cell_type": "markdown",
      "metadata": {
        "id": "Q7ZozLEP5tZZ"
      },
      "source": [
        "## Operation Funtions"
      ]
    },
    {
      "cell_type": "code",
      "metadata": {
        "colab": {
          "base_uri": "https://localhost:8080/"
        },
        "id": "-p5gYsUA4YWA",
        "outputId": "2d01d1bd-0c93-458e-b6b9-4676657efda4"
      },
      "source": [
        "import numpy as np\n",
        "\n",
        "a=np.array([1,2,3])\n",
        "\n",
        "#sum\n",
        "print(a.sum())\n",
        "#max\n",
        "print(a.max())\n",
        "#min\n",
        "print(a.min())"
      ],
      "execution_count": null,
      "outputs": [
        {
          "output_type": "stream",
          "text": [
            "6\n",
            "3\n",
            "1\n"
          ],
          "name": "stdout"
        }
      ]
    },
    {
      "cell_type": "code",
      "metadata": {
        "colab": {
          "base_uri": "https://localhost:8080/"
        },
        "id": "V4V86Gv4VmLZ",
        "outputId": "9e4b36c0-a6be-434c-8190-55a66116e7a5"
      },
      "source": [
        "b=np.array([(1,2,3),(4,5,6)])\n",
        "\n",
        "# columns are called axis 0\n",
        "# Rows are called axis 1\n",
        "\n",
        "print(b.sum(axis=0))\n",
        "print(b.sum(axis=1))"
      ],
      "execution_count": null,
      "outputs": [
        {
          "output_type": "stream",
          "text": [
            "[5 7 9]\n",
            "[ 6 15]\n"
          ],
          "name": "stdout"
        }
      ]
    },
    {
      "cell_type": "code",
      "metadata": {
        "colab": {
          "base_uri": "https://localhost:8080/"
        },
        "id": "sOIFRl9RWy_N",
        "outputId": "4027c728-754f-4af6-f316-6ae4cbf56c4d"
      },
      "source": [
        "# square root\n",
        "\n",
        "print(np.sqrt(a))\n",
        "\n",
        "# star=nderd daviation\n",
        "print(np.std(a))"
      ],
      "execution_count": null,
      "outputs": [
        {
          "output_type": "stream",
          "text": [
            "[1.         1.41421356 1.73205081]\n",
            "0.816496580927726\n"
          ],
          "name": "stdout"
        }
      ]
    },
    {
      "cell_type": "code",
      "metadata": {
        "id": "FU_AaaEfXSjf"
      },
      "source": [
        ""
      ],
      "execution_count": null,
      "outputs": []
    }
  ]
}
